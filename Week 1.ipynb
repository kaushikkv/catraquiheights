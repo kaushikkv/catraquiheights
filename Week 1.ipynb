{
 "cells": [
  {
   "cell_type": "code",
   "execution_count": 2,
   "id": "93c9be8d",
   "metadata": {},
   "outputs": [],
   "source": [
    "import pandas as pd"
   ]
  },
  {
   "cell_type": "code",
   "execution_count": 3,
   "id": "79e213c7",
   "metadata": {},
   "outputs": [],
   "source": [
    "df = pd.read_csv(\"Data/Catraqui Week1 - Week 1.csv\")"
   ]
  },
  {
   "cell_type": "code",
   "execution_count": 4,
   "id": "e0b5b2d4",
   "metadata": {},
   "outputs": [
    {
     "data": {
      "text/html": [
       "<div>\n",
       "<style scoped>\n",
       "    .dataframe tbody tr th:only-of-type {\n",
       "        vertical-align: middle;\n",
       "    }\n",
       "\n",
       "    .dataframe tbody tr th {\n",
       "        vertical-align: top;\n",
       "    }\n",
       "\n",
       "    .dataframe thead th {\n",
       "        text-align: right;\n",
       "    }\n",
       "</style>\n",
       "<table border=\"1\" class=\"dataframe\">\n",
       "  <thead>\n",
       "    <tr style=\"text-align: right;\">\n",
       "      <th></th>\n",
       "      <th>MONDAY</th>\n",
       "      <th>TUESDAY</th>\n",
       "      <th>WEDNESDAY</th>\n",
       "      <th>THURSDAY</th>\n",
       "      <th>FRIDAY</th>\n",
       "      <th>SATURDAY</th>\n",
       "      <th>SUNDAY</th>\n",
       "    </tr>\n",
       "  </thead>\n",
       "  <tbody>\n",
       "    <tr>\n",
       "      <th>0</th>\n",
       "      <td>Hot or cold cereals, eggs any style, toasts, p...</td>\n",
       "      <td>Hot or cold cereals, eggs any style, toasts, p...</td>\n",
       "      <td>Hot or cold cereals, eggs any style, toasts, p...</td>\n",
       "      <td>Hot or cold cereals, eggs any style, toasts, p...</td>\n",
       "      <td>Hot or cold cereals, eggs any style, toasts, p...</td>\n",
       "      <td>Hot or cold cereals, eggs any style, toasts, p...</td>\n",
       "      <td>Hot or cold cereals, eggs any style, toasts, p...</td>\n",
       "    </tr>\n",
       "    <tr>\n",
       "      <th>1</th>\n",
       "      <td>Caramelized Onion, Mushroom Pizza with Chef Salad</td>\n",
       "      <td>Spinach Salad with Bacon Dressing , Biscuit</td>\n",
       "      <td>Tourtiere with Baked Beans , Gravy</td>\n",
       "      <td>Pesto Penne Pasta with  Garlic Bread</td>\n",
       "      <td>Mediterranean Cod with Lemon Rice Pilaf , Roas...</td>\n",
       "      <td>Traditional Poutine</td>\n",
       "      <td>Pancakes, Whipped Cream , Maple Syrup</td>\n",
       "    </tr>\n",
       "    <tr>\n",
       "      <th>2</th>\n",
       "      <td>Chicken Souvlaki with Tzatziki, Pita Bread , H...</td>\n",
       "      <td>Avocado Chicken S,witch with Potato Salad</td>\n",
       "      <td>Thai Red Curry Pork with Jasmine Rice , Flatbread</td>\n",
       "      <td>Chicken a la King with Parmesan Mashed Potato ...</td>\n",
       "      <td>Meatloaf with Red Potato, Onions , Vegetable M...</td>\n",
       "      <td>Sausage  with Braised Cabbage , Fries</td>\n",
       "      <td>Fish Taco with Pico de Gallo , Chipotle Mayo</td>\n",
       "    </tr>\n",
       "    <tr>\n",
       "      <th>3</th>\n",
       "      <td>sandwiches: Tomato, Cheese, Chicken</td>\n",
       "      <td>sandwiches: Tomato, Cheese, Chicken</td>\n",
       "      <td>sandwiches: Tomato, Cheese, Chicken</td>\n",
       "      <td>sandwiches: Tomato, Cheese, Chicken</td>\n",
       "      <td>sandwiches: Tomato, Cheese, Chicken</td>\n",
       "      <td>sandwiches: Tomato, Cheese, Chicken</td>\n",
       "      <td>sandwiches: Tomato, Cheese, Chicken</td>\n",
       "    </tr>\n",
       "    <tr>\n",
       "      <th>4</th>\n",
       "      <td>Beef Chili with Stuffed Green Pepper , Potato ...</td>\n",
       "      <td>Alfredo Baked Penne with Diced Chicken , Garli...</td>\n",
       "      <td>Beef Stir Fry with Broccoli , Basmati Rice</td>\n",
       "      <td>Beef Stroganoff with Dill Butter , Glazed Noodles</td>\n",
       "      <td>Roast Beef with Demi Glace, mini Yorkshire, Pe...</td>\n",
       "      <td>Spinach , Cheese Canneloni in Rose Cream Sauce...</td>\n",
       "      <td>Tuscan Chicken with Roasted Potato , Vegetable...</td>\n",
       "    </tr>\n",
       "    <tr>\n",
       "      <th>5</th>\n",
       "      <td>Dill Baked Trout with Lemon Cream, Broccoli, P...</td>\n",
       "      <td>Cacciatore Baked Pork Chop with Mashed Potato ...</td>\n",
       "      <td>Chicken Breast with Fajita Topping, Mexican Ri...</td>\n",
       "      <td>Cajun Baked Salmon with Rosemary Mashed Potato...</td>\n",
       "      <td>Chicken Parmigiana with Green Salad , Ranch Dr...</td>\n",
       "      <td>Rosemary Garlic Lemon Roasted Chicken Breast w...</td>\n",
       "      <td>Tortitas de Carne (Sliders in Tomato Sauce) wi...</td>\n",
       "    </tr>\n",
       "  </tbody>\n",
       "</table>\n",
       "</div>"
      ],
      "text/plain": [
       "                                             MONDAY   \\\n",
       "0  Hot or cold cereals, eggs any style, toasts, p...   \n",
       "1  Caramelized Onion, Mushroom Pizza with Chef Salad   \n",
       "2  Chicken Souvlaki with Tzatziki, Pita Bread , H...   \n",
       "3              sandwiches: Tomato, Cheese, Chicken     \n",
       "4  Beef Chili with Stuffed Green Pepper , Potato ...   \n",
       "5  Dill Baked Trout with Lemon Cream, Broccoli, P...   \n",
       "\n",
       "                                            TUESDAY   \\\n",
       "0  Hot or cold cereals, eggs any style, toasts, p...   \n",
       "1        Spinach Salad with Bacon Dressing , Biscuit   \n",
       "2          Avocado Chicken S,witch with Potato Salad   \n",
       "3              sandwiches: Tomato, Cheese, Chicken     \n",
       "4  Alfredo Baked Penne with Diced Chicken , Garli...   \n",
       "5  Cacciatore Baked Pork Chop with Mashed Potato ...   \n",
       "\n",
       "                                          WEDNESDAY   \\\n",
       "0  Hot or cold cereals, eggs any style, toasts, p...   \n",
       "1                 Tourtiere with Baked Beans , Gravy   \n",
       "2  Thai Red Curry Pork with Jasmine Rice , Flatbread   \n",
       "3              sandwiches: Tomato, Cheese, Chicken     \n",
       "4         Beef Stir Fry with Broccoli , Basmati Rice   \n",
       "5  Chicken Breast with Fajita Topping, Mexican Ri...   \n",
       "\n",
       "                                           THURSDAY   \\\n",
       "0  Hot or cold cereals, eggs any style, toasts, p...   \n",
       "1              Pesto Penne Pasta with  Garlic Bread    \n",
       "2  Chicken a la King with Parmesan Mashed Potato ...   \n",
       "3              sandwiches: Tomato, Cheese, Chicken     \n",
       "4  Beef Stroganoff with Dill Butter , Glazed Noodles   \n",
       "5  Cajun Baked Salmon with Rosemary Mashed Potato...   \n",
       "\n",
       "                                             FRIDAY   \\\n",
       "0  Hot or cold cereals, eggs any style, toasts, p...   \n",
       "1  Mediterranean Cod with Lemon Rice Pilaf , Roas...   \n",
       "2  Meatloaf with Red Potato, Onions , Vegetable M...   \n",
       "3              sandwiches: Tomato, Cheese, Chicken     \n",
       "4  Roast Beef with Demi Glace, mini Yorkshire, Pe...   \n",
       "5  Chicken Parmigiana with Green Salad , Ranch Dr...   \n",
       "\n",
       "                                           SATURDAY   \\\n",
       "0  Hot or cold cereals, eggs any style, toasts, p...   \n",
       "1                               Traditional Poutine    \n",
       "2              Sausage  with Braised Cabbage , Fries   \n",
       "3              sandwiches: Tomato, Cheese, Chicken     \n",
       "4  Spinach , Cheese Canneloni in Rose Cream Sauce...   \n",
       "5  Rosemary Garlic Lemon Roasted Chicken Breast w...   \n",
       "\n",
       "                                             SUNDAY   \n",
       "0  Hot or cold cereals, eggs any style, toasts, p...  \n",
       "1              Pancakes, Whipped Cream , Maple Syrup  \n",
       "2      Fish Taco with Pico de Gallo , Chipotle Mayo   \n",
       "3              sandwiches: Tomato, Cheese, Chicken    \n",
       "4  Tuscan Chicken with Roasted Potato , Vegetable...  \n",
       "5  Tortitas de Carne (Sliders in Tomato Sauce) wi...  "
      ]
     },
     "execution_count": 4,
     "metadata": {},
     "output_type": "execute_result"
    }
   ],
   "source": [
    "df"
   ]
  },
  {
   "cell_type": "code",
   "execution_count": 5,
   "id": "b965cdc7",
   "metadata": {},
   "outputs": [
    {
     "data": {
      "text/plain": [
       "['Hot or cold cereals',\n",
       " ' eggs any style',\n",
       " ' toasts',\n",
       " ' pancakes',\n",
       " ' fresh fruit salad bar\\n']"
      ]
     },
     "execution_count": 5,
     "metadata": {},
     "output_type": "execute_result"
    }
   ],
   "source": [
    "df['MONDAY '][0].split(\",\")"
   ]
  },
  {
   "cell_type": "code",
   "execution_count": 6,
   "id": "98f530be",
   "metadata": {},
   "outputs": [],
   "source": [
    "items=[]"
   ]
  },
  {
   "cell_type": "code",
   "execution_count": 7,
   "id": "e2284d6d",
   "metadata": {},
   "outputs": [],
   "source": [
    "for day in df.columns:\n",
    "    day_items = df[day]\n",
    "    for i in range(0, len(day_items)):\n",
    "        temp = day_items[i].split(\",\")\n",
    "        for item in temp:\n",
    "            items.append(item.strip())"
   ]
  },
  {
   "cell_type": "code",
   "execution_count": 8,
   "id": "6d4049f8",
   "metadata": {},
   "outputs": [
    {
     "data": {
      "text/plain": [
       "['Hot or cold cereals',\n",
       " 'eggs any style',\n",
       " 'toasts',\n",
       " 'pancakes',\n",
       " 'fresh fruit salad bar',\n",
       " 'Caramelized Onion',\n",
       " 'Mushroom Pizza with Chef Salad',\n",
       " 'Chicken Souvlaki with Tzatziki',\n",
       " 'Pita Bread',\n",
       " 'Homefries',\n",
       " 'sandwiches: Tomato',\n",
       " 'Cheese',\n",
       " 'Chicken',\n",
       " 'Beef Chili with Stuffed Green Pepper',\n",
       " 'Potato Wedges',\n",
       " 'Dill Baked Trout with Lemon Cream',\n",
       " 'Broccoli',\n",
       " 'Potato Wedges',\n",
       " 'Hot or cold cereals',\n",
       " 'eggs any style',\n",
       " 'toasts',\n",
       " 'pancakes',\n",
       " 'fresh fruit salad bar',\n",
       " 'Spinach Salad with Bacon Dressing',\n",
       " 'Biscuit',\n",
       " 'Avocado Chicken S',\n",
       " 'witch with Potato Salad',\n",
       " 'sandwiches: Tomato',\n",
       " 'Cheese',\n",
       " 'Chicken',\n",
       " 'Alfredo Baked Penne with Diced Chicken',\n",
       " 'Garlic Bread',\n",
       " 'Cacciatore Baked Pork Chop with Mashed Potato',\n",
       " 'Vegetable Medley',\n",
       " 'Hot or cold cereals',\n",
       " 'eggs any style',\n",
       " 'toasts',\n",
       " 'pancakes',\n",
       " 'fresh fruit salad bar',\n",
       " 'Tourtiere with Baked Beans',\n",
       " 'Gravy',\n",
       " 'Thai Red Curry Pork with Jasmine Rice',\n",
       " 'Flatbread',\n",
       " 'sandwiches: Tomato',\n",
       " 'Cheese',\n",
       " 'Chicken',\n",
       " 'Beef Stir Fry with Broccoli',\n",
       " 'Basmati Rice',\n",
       " 'Chicken Breast with Fajita Topping',\n",
       " 'Mexican Rice',\n",
       " 'Sour Cream',\n",
       " 'Guacamole',\n",
       " 'Hot or cold cereals',\n",
       " 'eggs any style',\n",
       " 'toasts',\n",
       " 'pancakes',\n",
       " 'sausage',\n",
       " 'Pesto Penne Pasta with  Garlic Bread',\n",
       " 'Chicken a la King with Parmesan Mashed Potato',\n",
       " 'Roasted Vegetables',\n",
       " 'sandwiches: Tomato',\n",
       " 'Cheese',\n",
       " 'Chicken',\n",
       " 'Beef Stroganoff with Dill Butter',\n",
       " 'Glazed Noodles',\n",
       " 'Cajun Baked Salmon with Rosemary Mashed Potato',\n",
       " 'Brussel Sprouts',\n",
       " 'Hot or cold cereals',\n",
       " 'eggs any style',\n",
       " 'toasts',\n",
       " 'pancakes',\n",
       " 'fresh fruit salad bar',\n",
       " 'Mediterranean Cod with Lemon Rice Pilaf',\n",
       " 'Roasted Asparagus',\n",
       " 'Meatloaf with Red Potato',\n",
       " 'Onions',\n",
       " 'Vegetable Medley',\n",
       " 'sandwiches: Tomato',\n",
       " 'Cheese',\n",
       " 'Chicken',\n",
       " 'Roast Beef with Demi Glace',\n",
       " 'mini Yorkshire',\n",
       " 'Peas',\n",
       " 'Potato Wedges',\n",
       " 'Chicken Parmigiana with Green Salad',\n",
       " 'Ranch Dressing',\n",
       " 'Hot or cold cereals',\n",
       " 'eggs any style',\n",
       " 'toasts',\n",
       " 'pancakes',\n",
       " 'fresh fruit salad bar',\n",
       " 'Traditional Poutine',\n",
       " 'Sausage  with Braised Cabbage',\n",
       " 'Fries',\n",
       " 'sandwiches: Tomato',\n",
       " 'Cheese',\n",
       " 'Chicken',\n",
       " 'Spinach',\n",
       " 'Cheese Canneloni in Rose Cream Sauce',\n",
       " 'Garlic Toast',\n",
       " 'Rosemary Garlic Lemon Roasted Chicken Breast with Yam Fries',\n",
       " 'Dill Mayo',\n",
       " 'Hot or cold cereals',\n",
       " 'eggs any style',\n",
       " 'toasts',\n",
       " 'pancakes',\n",
       " 'sausage',\n",
       " 'Pancakes',\n",
       " 'Whipped Cream',\n",
       " 'Maple Syrup',\n",
       " 'Fish Taco with Pico de Gallo',\n",
       " 'Chipotle Mayo',\n",
       " 'sandwiches: Tomato',\n",
       " 'Cheese',\n",
       " 'Chicken',\n",
       " 'Tuscan Chicken with Roasted Potato',\n",
       " 'Vegetable Medley',\n",
       " 'Tortitas de Carne (Sliders in Tomato Sauce) with Steamed Rice Mixed with  Vegetables']"
      ]
     },
     "execution_count": 8,
     "metadata": {},
     "output_type": "execute_result"
    }
   ],
   "source": [
    "items"
   ]
  },
  {
   "cell_type": "code",
   "execution_count": 10,
   "id": "fcd49c05",
   "metadata": {},
   "outputs": [
    {
     "data": {
      "text/plain": [
       "118"
      ]
     },
     "execution_count": 10,
     "metadata": {},
     "output_type": "execute_result"
    }
   ],
   "source": [
    "len(set(items))"
   ]
  },
  {
   "cell_type": "code",
   "execution_count": 11,
   "id": "32d947ba",
   "metadata": {},
   "outputs": [],
   "source": [
    "df = pd.DataFrame(list(set(items)))"
   ]
  },
  {
   "cell_type": "code",
   "execution_count": 39,
   "id": "68f99924",
   "metadata": {},
   "outputs": [],
   "source": [
    "df.drop(columns=\"ingredients\", axis = 1, inplace=True)"
   ]
  },
  {
   "cell_type": "code",
   "execution_count": 40,
   "id": "c609be2d",
   "metadata": {},
   "outputs": [
    {
     "data": {
      "text/html": [
       "<div>\n",
       "<style scoped>\n",
       "    .dataframe tbody tr th:only-of-type {\n",
       "        vertical-align: middle;\n",
       "    }\n",
       "\n",
       "    .dataframe tbody tr th {\n",
       "        vertical-align: top;\n",
       "    }\n",
       "\n",
       "    .dataframe thead th {\n",
       "        text-align: right;\n",
       "    }\n",
       "</style>\n",
       "<table border=\"1\" class=\"dataframe\">\n",
       "  <thead>\n",
       "    <tr style=\"text-align: right;\">\n",
       "      <th></th>\n",
       "      <th>item</th>\n",
       "      <th>week</th>\n",
       "    </tr>\n",
       "  </thead>\n",
       "  <tbody>\n",
       "    <tr>\n",
       "      <th>0</th>\n",
       "      <td>Peas</td>\n",
       "      <td>1</td>\n",
       "    </tr>\n",
       "    <tr>\n",
       "      <th>1</th>\n",
       "      <td>Beef Stroganoff with Dill Butter</td>\n",
       "      <td>1</td>\n",
       "    </tr>\n",
       "    <tr>\n",
       "      <th>2</th>\n",
       "      <td>Guacamole</td>\n",
       "      <td>1</td>\n",
       "    </tr>\n",
       "    <tr>\n",
       "      <th>3</th>\n",
       "      <td>Fish Taco with Pico de Gallo</td>\n",
       "      <td>1</td>\n",
       "    </tr>\n",
       "    <tr>\n",
       "      <th>4</th>\n",
       "      <td>Rosemary Garlic Lemon Roasted Chicken Breast w...</td>\n",
       "      <td>1</td>\n",
       "    </tr>\n",
       "    <tr>\n",
       "      <th>...</th>\n",
       "      <td>...</td>\n",
       "      <td>...</td>\n",
       "    </tr>\n",
       "    <tr>\n",
       "      <th>62</th>\n",
       "      <td>Pita Bread</td>\n",
       "      <td>1</td>\n",
       "    </tr>\n",
       "    <tr>\n",
       "      <th>63</th>\n",
       "      <td>Roasted Vegetables</td>\n",
       "      <td>1</td>\n",
       "    </tr>\n",
       "    <tr>\n",
       "      <th>64</th>\n",
       "      <td>Tuscan Chicken with Roasted Potato</td>\n",
       "      <td>1</td>\n",
       "    </tr>\n",
       "    <tr>\n",
       "      <th>65</th>\n",
       "      <td>Beef Stir Fry with Broccoli</td>\n",
       "      <td>1</td>\n",
       "    </tr>\n",
       "    <tr>\n",
       "      <th>66</th>\n",
       "      <td>Sour Cream</td>\n",
       "      <td>1</td>\n",
       "    </tr>\n",
       "  </tbody>\n",
       "</table>\n",
       "<p>67 rows × 2 columns</p>\n",
       "</div>"
      ],
      "text/plain": [
       "                                                 item week\n",
       "0                                                Peas    1\n",
       "1                    Beef Stroganoff with Dill Butter    1\n",
       "2                                           Guacamole    1\n",
       "3                        Fish Taco with Pico de Gallo    1\n",
       "4   Rosemary Garlic Lemon Roasted Chicken Breast w...    1\n",
       "..                                                ...  ...\n",
       "62                                         Pita Bread    1\n",
       "63                                 Roasted Vegetables    1\n",
       "64                 Tuscan Chicken with Roasted Potato    1\n",
       "65                        Beef Stir Fry with Broccoli    1\n",
       "66                                         Sour Cream    1\n",
       "\n",
       "[67 rows x 2 columns]"
      ]
     },
     "execution_count": 40,
     "metadata": {},
     "output_type": "execute_result"
    }
   ],
   "source": [
    "df"
   ]
  },
  {
   "cell_type": "code",
   "execution_count": 134,
   "id": "c7818899",
   "metadata": {},
   "outputs": [],
   "source": [
    "import sqlalchemy\n",
    "database_username = 'testing'\n",
    "database_password = 'example-pass'\n",
    "database_ip       = '20.151.65.130'\n",
    "database_name     = 'catraquiheights'\n",
    "database_connection = sqlalchemy.create_engine('mysql+mysqlconnector://{0}:{1}@{2}/{3}'.\n",
    "                                               format(database_username, database_password, \n",
    "                                                      database_ip, database_name))\n"
   ]
  },
  {
   "cell_type": "code",
   "execution_count": 135,
   "id": "eff790b1",
   "metadata": {},
   "outputs": [
    {
     "data": {
      "text/plain": [
       "67"
      ]
     },
     "execution_count": 135,
     "metadata": {},
     "output_type": "execute_result"
    }
   ],
   "source": [
    "df2.to_sql(con=database_connection, name='items_against_week', if_exists='replace')"
   ]
  },
  {
   "cell_type": "code",
   "execution_count": 55,
   "id": "95870d1d",
   "metadata": {},
   "outputs": [],
   "source": [
    "df['ingredients'] = 0"
   ]
  },
  {
   "cell_type": "code",
   "execution_count": 57,
   "id": "6738c9a8",
   "metadata": {},
   "outputs": [],
   "source": [
    "df.to_csv(\"test.csv\")"
   ]
  },
  {
   "cell_type": "code",
   "execution_count": 140,
   "id": "7cb9be95",
   "metadata": {},
   "outputs": [],
   "source": [
    "df2 = pd.read_csv(\"test.csv\", index_col=False)"
   ]
  },
  {
   "cell_type": "code",
   "execution_count": 142,
   "id": "d67c6fb7",
   "metadata": {},
   "outputs": [],
   "source": [
    "df2.drop(columns='Unnamed: 0', inplace=True)"
   ]
  },
  {
   "cell_type": "code",
   "execution_count": 172,
   "id": "ccee9399",
   "metadata": {},
   "outputs": [],
   "source": [
    "total_required = {}"
   ]
  },
  {
   "cell_type": "code",
   "execution_count": 176,
   "id": "f0e2e90f",
   "metadata": {},
   "outputs": [],
   "source": [
    "for i in df2[df2['week'] == 1].ingredients:\n",
    "    if i != '0':\n",
    "        data = json.loads(i)\n",
    "        for key in data.keys():\n",
    "            if key in total_required:\n",
    "                total_required[key] = total_required[key] + data[key]\n",
    "            else:\n",
    "                total_required[key] = data[key]\n",
    "        "
   ]
  },
  {
   "cell_type": "code",
   "execution_count": 177,
   "id": "4edb32bb",
   "metadata": {},
   "outputs": [
    {
     "data": {
      "text/plain": [
       "{'peas': 60,\n",
       " 'oil': 9,\n",
       " 'mustard': 6,\n",
       " 'potatoes': 6,\n",
       " 'cheese': 50,\n",
       " 'mushroom': 8,\n",
       " 'spices': 8}"
      ]
     },
     "execution_count": 177,
     "metadata": {},
     "output_type": "execute_result"
    }
   ],
   "source": [
    "total_required"
   ]
  },
  {
   "cell_type": "code",
   "execution_count": null,
   "id": "d7fba7aa",
   "metadata": {},
   "outputs": [],
   "source": []
  }
 ],
 "metadata": {
  "kernelspec": {
   "display_name": "Python 3 (ipykernel)",
   "language": "python",
   "name": "python3"
  },
  "language_info": {
   "codemirror_mode": {
    "name": "ipython",
    "version": 3
   },
   "file_extension": ".py",
   "mimetype": "text/x-python",
   "name": "python",
   "nbconvert_exporter": "python",
   "pygments_lexer": "ipython3",
   "version": "3.10.8"
  }
 },
 "nbformat": 4,
 "nbformat_minor": 5
}
